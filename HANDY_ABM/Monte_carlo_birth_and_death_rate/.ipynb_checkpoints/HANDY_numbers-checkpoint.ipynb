{
 "cells": [
  {
   "cell_type": "code",
   "execution_count": 1,
   "id": "369a6ef1",
   "metadata": {},
   "outputs": [
    {
     "name": "stdout",
     "output_type": "stream",
     "text": [
      "The value of eta is: 0.7\n"
     ]
    }
   ],
   "source": [
    "import numpy as np\n",
    "\n",
    "# HANDY calculations\n",
    "\n",
    "am = 0.01\n",
    "aM = 0.07\n",
    "bc = 0.03\n",
    "s = 5E-4\n",
    "rho = 5E-3\n",
    "gamma = 0.01\n",
    "ncc = 100\n",
    "kappa = 1\n",
    "delta = 6.6E-6\n",
    "\n",
    "eta = (aM - bc)/(aM - am)\n",
    "print(\"The value of eta is:\", np.round(eta,1))"
   ]
  },
  {
   "cell_type": "code",
   "execution_count": 2,
   "id": "5e8dcb59",
   "metadata": {},
   "outputs": [
    {
     "name": "stdout",
     "output_type": "stream",
     "text": [
      "The carrying capacity of nature in this case is: 74992.3\n"
     ]
    }
   ],
   "source": [
    "#Equitable society expected values i.e when x_e = 0 (zero elites)\n",
    "\n",
    "\n",
    "x_c = (gamma/delta)*(ncc - eta*(s/delta))\n",
    "print(\"The carrying capacity of nature in this case is:\", np.round(x_c,1))\n"
   ]
  },
  {
   "cell_type": "code",
   "execution_count": 8,
   "id": "6b61898b",
   "metadata": {},
   "outputs": [
    {
     "data": {
      "text/plain": [
       "74999.99999999999"
      ]
     },
     "execution_count": 8,
     "metadata": {},
     "output_type": "execute_result"
    }
   ],
   "source": [
    "x_M = (gamma/(eta*s))*np.power((ncc/2),2)\n",
    "x_M"
   ]
  },
  {
   "cell_type": "code",
   "execution_count": null,
   "id": "ba8cb6b5",
   "metadata": {},
   "outputs": [],
   "source": []
  }
 ],
 "metadata": {
  "kernelspec": {
   "display_name": "Python 3 (ipykernel)",
   "language": "python",
   "name": "python3"
  },
  "language_info": {
   "codemirror_mode": {
    "name": "ipython",
    "version": 3
   },
   "file_extension": ".py",
   "mimetype": "text/x-python",
   "name": "python",
   "nbconvert_exporter": "python",
   "pygments_lexer": "ipython3",
   "version": "3.9.7"
  }
 },
 "nbformat": 4,
 "nbformat_minor": 5
}
