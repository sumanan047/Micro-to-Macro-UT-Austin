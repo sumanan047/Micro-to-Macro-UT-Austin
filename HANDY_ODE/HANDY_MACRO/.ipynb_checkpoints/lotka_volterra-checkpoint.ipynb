{
 "cells": [
  {
   "cell_type": "markdown",
   "id": "12312dc0-6b8e-4719-b9c5-11e709088a4c",
   "metadata": {},
   "source": [
    "### The Lotka-Volterra (LV) model\n",
    "LV model uses a set of differential equations (1-2) to define predator and prey dynamics. \n",
    "\n",
    "Author: Suman Saurabh (saurabh@utexas.edu)\n",
    "$$ \n",
    "x' = (ay)x - bx                           --------(1)\n",
    "\\\\\n",
    "y' = cy - (dx)y                          --------(3)\n",
    "\\\\\n",
    "$$\n",
    "\n",
    "x is the predator population, y is the prey population, a is the predator birth rate, b is predator death rate, c is the prey birth rate and finally d is the prey death rate."
   ]
  },
  {
   "cell_type": "code",
   "execution_count": 5,
   "id": "b31356ec-712c-4b5f-8276-c6daef3f38df",
   "metadata": {},
   "outputs": [
    {
     "data": {
      "application/vnd.jupyter.widget-view+json": {
       "model_id": "06a9fa2261fb4141921e84681bd594a2",
       "version_major": 2,
       "version_minor": 0
      },
      "text/plain": [
       "FloatSlider(value=0.5, continuous_update=False, description='Predator Death Rate', max=10.0)"
      ]
     },
     "metadata": {},
     "output_type": "display_data"
    },
    {
     "data": {
      "application/vnd.jupyter.widget-view+json": {
       "model_id": "6c403ba6ddf5488ea0de63b821656156",
       "version_major": 2,
       "version_minor": 0
      },
      "text/plain": [
       "FloatSlider(value=0.5, continuous_update=False, description='Predator Birth Rate', max=10.0)"
      ]
     },
     "metadata": {},
     "output_type": "display_data"
    },
    {
     "data": {
      "application/vnd.jupyter.widget-view+json": {
       "model_id": "79d3e01cf48f44de84c09a8c0f02f7ce",
       "version_major": 2,
       "version_minor": 0
      },
      "text/plain": [
       "FloatSlider(value=0.5, continuous_update=False, description='Prey Birth Rate', max=10.0)"
      ]
     },
     "metadata": {},
     "output_type": "display_data"
    },
    {
     "data": {
      "application/vnd.jupyter.widget-view+json": {
       "model_id": "822a66758d6e4050a2e83f2f81432c0e",
       "version_major": 2,
       "version_minor": 0
      },
      "text/plain": [
       "FloatSlider(value=0.5, continuous_update=False, description='Prey Death Rate', max=10.0, step=0.01)"
      ]
     },
     "metadata": {},
     "output_type": "display_data"
    }
   ],
   "source": [
    "import numpy as np\n",
    "import matplotlib.pyplot as plt\n",
    "import ipywidgets as widgets\n",
    "\n",
    "b = widgets.FloatSlider(\n",
    "    value=0.5,\n",
    "    min=0,\n",
    "    max=10.0,\n",
    "    step=0.1,\n",
    "    description='Predator Death Rate',\n",
    "    disabled=False,\n",
    "    continuous_update=False,\n",
    "    orientation='horizontal',\n",
    "    readout=True)\n",
    "\n",
    "display(b)\n",
    "\n",
    "a = widgets.FloatSlider(\n",
    "    value=0.5,\n",
    "    min=0,\n",
    "    max=10.0,\n",
    "    step=0.1,\n",
    "    description='Predator Birth Rate',\n",
    "    disabled=False,\n",
    "    continuous_update=False,\n",
    "    orientation='horizontal',\n",
    "    readout=True)\n",
    "\n",
    "display(a)\n",
    "\n",
    "c = widgets.FloatSlider(\n",
    "    value=0.5,\n",
    "    min=0,\n",
    "    max=10.0,\n",
    "    step=0.1,\n",
    "    description='Prey Birth Rate',\n",
    "    disabled=False,\n",
    "    continuous_update=False,\n",
    "    orientation='horizontal',\n",
    "    readout=True)\n",
    "\n",
    "display(c)\n",
    "\n",
    "d = widgets.FloatSlider(\n",
    "    value=0.5,\n",
    "    min=0,\n",
    "    max=10.0,\n",
    "    step=0.01,\n",
    "    description='Prey Death Rate',\n",
    "    disabled=False,\n",
    "    continuous_update=False,\n",
    "    orientation='horizontal',\n",
    "    readout=True)\n",
    "\n",
    "display(d)\n",
    "#initializong the constants\n",
    "\n",
    "#elites_death_rate = 1.09    # b\n",
    "#elites_birth_rate = 0.02     #a\n",
    "#commoners_birth_rate = 0.8  # c\n",
    "#commoners_death_rate = 0.004  #d"
   ]
  },
  {
   "cell_type": "code",
   "execution_count": 6,
   "id": "56b918c6-9405-4838-9dd4-40508afc7077",
   "metadata": {},
   "outputs": [
    {
     "data": {
      "text/plain": [
       "<matplotlib.legend.Legend at 0x250da501fa0>"
      ]
     },
     "execution_count": 6,
     "metadata": {},
     "output_type": "execute_result"
    },
    {
     "data": {
      "image/png": "[encoded data removed]",
      "text/plain": [
       "<Figure size 1080x360 with 1 Axes>"
      ]
     },
     "metadata": {
      "needs_background": "light"
     },
     "output_type": "display_data"
    }
   ],
   "source": [
    "elites_death_rate = b.value\n",
    "elites_birth_rate = a.value\n",
    "commoners_birth_rate = c.value\n",
    "commoners_death_rate = d.value\n",
    "\n",
    "time_step = 0.0001\n",
    "#initializing the variable\n",
    "time  = np.arange(0, 20, time_step)\n",
    "time.shape\n",
    "commoner_population = np.empty([len(time),1], dtype = np.float64)\n",
    "commoner_population[0] = 100\n",
    "elite_population = np.empty([len(time),1], dtype = np.float64)\n",
    "elite_population[0] = 15\n",
    "cd = np.empty([len(time),1], dtype = np.float64)\n",
    "ed = np.empty([len(time),1], dtype = np.float64)\n",
    "delta_t = time_step\n",
    "\n",
    "def Lotka_Volterra (elites_death_rate,elites_birth_rate,commoners_birth_rate,commoners_death_rate):\n",
    "    for i in range (0, len(time)-1):\n",
    "        ed[i] = (elite_population[i]*elites_birth_rate*commoner_population[i] - elites_death_rate*elite_population[i])\n",
    "        cd[i] = (commoner_population[i]*commoners_birth_rate - commoners_death_rate*elite_population[i]*commoner_population[i])\n",
    "        elite_population[i+1] = elite_population[i] + delta_t* ed[i]\n",
    "        commoner_population[i+1] = commoner_population[i] + delta_t* cd[i]\n",
    "\n",
    "Lotka_Volterra(elites_death_rate,elites_birth_rate,commoners_birth_rate,commoners_death_rate)   \n",
    "\n",
    "plt.figure(figsize = (15,5))  \n",
    "plt.title(\"POPULATION WITH TIME\")\n",
    "plt.grid()\n",
    "plt.xlabel('Time')\n",
    "plt.ylabel('Population')\n",
    "plt.plot(time,commoner_population,\"r-\", label = \"commoners\")\n",
    "plt.plot(time,elite_population,\"b-\", label = \"elite\")\n",
    "plt.legend(loc='best')"
   ]
  },
  {
   "cell_type": "code",
   "execution_count": null,
   "id": "9036b18e-4344-4206-9f1f-c7ee6b0a2aa4",
   "metadata": {},
   "outputs": [],
   "source": []
  }
 ],
 "metadata": {
  "kernelspec": {
   "display_name": "Python 3 (ipykernel)",
   "language": "python",
   "name": "python3"
  },
  "language_info": {
   "codemirror_mode": {
    "name": "ipython",
    "version": 3
   },
   "file_extension": ".py",
   "mimetype": "text/x-python",
   "name": "python",
   "nbconvert_exporter": "python",
   "pygments_lexer": "ipython3",
   "version": "3.9.7"
  }
 },
 "nbformat": 4,
 "nbformat_minor": 5
}
